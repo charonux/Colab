{
  "nbformat": 4,
  "nbformat_minor": 0,
  "metadata": {
    "kernelspec": {
      "display_name": "Python 3",
      "language": "python",
      "name": "python3"
    },
    "language_info": {
      "codemirror_mode": {
        "name": "ipython",
        "version": 3
      },
      "file_extension": ".py",
      "mimetype": "text/x-python",
      "name": "python",
      "nbconvert_exporter": "python",
      "pygments_lexer": "ipython3",
      "version": "3.5.2"
    },
    "colab": {
      "name": "02.Tensors_Manipulation.ipynb",
      "provenance": [],
      "include_colab_link": true
    }
  },
  "cells": [
    {
      "cell_type": "markdown",
      "metadata": {
        "id": "view-in-github",
        "colab_type": "text"
      },
      "source": [
        "<a href=\"https://colab.research.google.com/github/charonux/Colab/blob/master/02_Tensors_Manipulation.ipynb\" target=\"_parent\"><img src=\"https://colab.research.google.com/assets/colab-badge.svg\" alt=\"Open In Colab\"/></a>"
      ]
    },
    {
      "cell_type": "code",
      "metadata": {
        "id": "M1-1vAhvFGTj",
        "colab_type": "code",
        "colab": {}
      },
      "source": [
        "from tensorflow.keras.datasets import mnist"
      ],
      "execution_count": null,
      "outputs": []
    },
    {
      "cell_type": "code",
      "metadata": {
        "id": "Ki4PhmgDFGTn",
        "colab_type": "code",
        "colab": {
          "base_uri": "https://localhost:8080/",
          "height": 51
        },
        "outputId": "f8f3d71c-ca58-4162-f904-7c79c7c07152"
      },
      "source": [
        "(train_images, train_labels), (test_images, test_labels) = mnist.load_data()\n",
        "\n",
        "print('MNIST train_images shape:')\n",
        "print(train_images.shape)"
      ],
      "execution_count": null,
      "outputs": [
        {
          "output_type": "stream",
          "text": [
            "MNIST train_images shape:\n",
            "(60000, 28, 28)\n"
          ],
          "name": "stdout"
        }
      ]
    },
    {
      "cell_type": "markdown",
      "metadata": {
        "id": "41erRm2kFGTs",
        "colab_type": "raw"
      },
      "source": [
        "- Selecting specific elements in a tensor is called tensor slicing"
      ]
    },
    {
      "cell_type": "code",
      "metadata": {
        "id": "bLc7c46LFGTs",
        "colab_type": "code",
        "colab": {
          "base_uri": "https://localhost:8080/",
          "height": 85
        },
        "outputId": "dfe8a492-20ed-41b3-ea85-48859e6f85be"
      },
      "source": [
        "# Tensor Slicing\n",
        "print('train_images shape:')\n",
        "print(train_images.shape)\n",
        "print('Slice/select digits from 10 to 100:')\n",
        "my_slice = train_images[10:100]\n",
        "print(my_slice.shape)"
      ],
      "execution_count": null,
      "outputs": [
        {
          "output_type": "stream",
          "text": [
            "train_images shape:\n",
            "(60000, 28, 28)\n",
            "Slice/select digits from 10 to 100:\n",
            "(90, 28, 28)\n"
          ],
          "name": "stdout"
        }
      ]
    },
    {
      "cell_type": "code",
      "metadata": {
        "id": "jcAXtXHqGaev",
        "colab_type": "code",
        "colab": {
          "base_uri": "https://localhost:8080/",
          "height": 51
        },
        "outputId": "95b1d774-37b6-4466-8638-83199d7b4741"
      },
      "source": [
        "# Equivalent\n",
        "my_slice = train_images[10:100, :, :]\n",
        "print(my_slice.shape)\n",
        "# Or\n",
        "my_slice = train_images[10:100, 0:28, 0:28]\n",
        "print(my_slice.shape)"
      ],
      "execution_count": null,
      "outputs": [
        {
          "output_type": "stream",
          "text": [
            "(90, 28, 28)\n",
            "(90, 28, 28)\n"
          ],
          "name": "stdout"
        }
      ]
    },
    {
      "cell_type": "code",
      "metadata": {
        "id": "K_zs9VycFGTu",
        "colab_type": "code",
        "colab": {
          "base_uri": "https://localhost:8080/",
          "height": 51
        },
        "outputId": "9df97c25-35ed-49ef-e45d-b67f5b274eb8"
      },
      "source": [
        "print('Select 14 × 14 pixels in the bottom-right corner of all images:')\n",
        "my_slice = train_images[:, 14:, 14:]\n",
        "print(my_slice.shape)"
      ],
      "execution_count": null,
      "outputs": [
        {
          "output_type": "stream",
          "text": [
            "Select 14 × 14 pixels in the bottom-right corner of all images:\n",
            "(60000, 14, 14)\n"
          ],
          "name": "stdout"
        }
      ]
    },
    {
      "cell_type": "code",
      "metadata": {
        "id": "eIUWxxZJFGTx",
        "colab_type": "code",
        "colab": {
          "base_uri": "https://localhost:8080/",
          "height": 51
        },
        "outputId": "bee6627f-9514-4983-cbf1-909829f1a37a"
      },
      "source": [
        "# negative indices indicate a position relaktive to the end of current axis\n",
        "print('Crop the images to patches of 14 × 14 pixels centered in the middle:')\n",
        "my_slice = train_images[:, 7:-7, 7:-7]\n",
        "print(my_slice.shape)"
      ],
      "execution_count": null,
      "outputs": [
        {
          "output_type": "stream",
          "text": [
            "Crop the images to patches of 14 × 14 pixels centered in the middle:\n",
            "(60000, 14, 14)\n"
          ],
          "name": "stdout"
        }
      ]
    },
    {
      "cell_type": "markdown",
      "metadata": {
        "id": "ipsp-_gvFGTz",
        "colab_type": "text"
      },
      "source": [
        " - The first axis of data tensors is samples axis\n",
        " - Models don’t process an entire dataset at once; rather, into small batches."
      ]
    },
    {
      "cell_type": "code",
      "metadata": {
        "id": "7R8LlSrmFGTz",
        "colab_type": "code",
        "colab": {
          "base_uri": "https://localhost:8080/",
          "height": 153
        },
        "outputId": "7d1fc612-eb52-4eef-fba5-fab39c199378"
      },
      "source": [
        "# Batches\n",
        "batch = train_images[:128]\n",
        "print('First batch:')\n",
        "print(batch.shape)\n",
        "batch = train_images[128:256]\n",
        "print('Second batch:')\n",
        "print(batch.shape)\n",
        "batch = train_images[:128]\n",
        "print('Last batch:')\n",
        "print(batch.shape)\n",
        "batch = train_images[:-128]\n",
        "print('Entire dataset without last batch:')\n",
        "print(batch.shape)"
      ],
      "execution_count": null,
      "outputs": [
        {
          "output_type": "stream",
          "text": [
            "First batch:\n",
            "(128, 28, 28)\n",
            "Second batch:\n",
            "(128, 28, 28)\n",
            "Last batch:\n",
            "(128, 28, 28)\n",
            "Entire dataset without last batch:\n",
            "(59872, 28, 28)\n"
          ],
          "name": "stdout"
        }
      ]
    }
  ]
}