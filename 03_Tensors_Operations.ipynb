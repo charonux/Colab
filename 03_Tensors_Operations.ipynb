{
  "nbformat": 4,
  "nbformat_minor": 0,
  "metadata": {
    "kernelspec": {
      "display_name": "Python 3",
      "language": "python",
      "name": "python3"
    },
    "language_info": {
      "codemirror_mode": {
        "name": "ipython",
        "version": 3
      },
      "file_extension": ".py",
      "mimetype": "text/x-python",
      "name": "python",
      "nbconvert_exporter": "python",
      "pygments_lexer": "ipython3",
      "version": "3.5.2"
    },
    "colab": {
      "name": "03.Tensors_Operations.ipynb",
      "provenance": [],
      "include_colab_link": true
    }
  },
  "cells": [
    {
      "cell_type": "markdown",
      "metadata": {
        "id": "view-in-github",
        "colab_type": "text"
      },
      "source": [
        "<a href=\"https://colab.research.google.com/github/charonux/Colab/blob/master/03_Tensors_Operations.ipynb\" target=\"_parent\"><img src=\"https://colab.research.google.com/assets/colab-badge.svg\" alt=\"Open In Colab\"/></a>"
      ]
    },
    {
      "cell_type": "code",
      "metadata": {
        "id": "wKtaJXG2neWc",
        "colab_type": "code",
        "colab": {}
      },
      "source": [
        "import numpy as np"
      ],
      "execution_count": null,
      "outputs": []
    },
    {
      "cell_type": "code",
      "metadata": {
        "id": "CU8EYW1HneWg",
        "colab_type": "code",
        "colab": {},
        "outputId": "c5a8e447-1cf9-414b-80e6-57f70017583b"
      },
      "source": [
        "a = np.array([[-1, 2, 3],\n",
        "              [-4, 5, 6],\n",
        "              [-7, 8, 9]])\n",
        "\n",
        "b = np.array([[1, 2, 3],\n",
        "              [4, 5, 6],\n",
        "              [7, 8, 9]])\n",
        "c = np.array([1, 2, 3])\n",
        "\n",
        "print(\"Sample array & info:\")\n",
        "print(len(a.shape), 'D Tensor,', a.shape[0], 'samples,', a.shape[1], 'features,', \\\n",
        "      a.dtype, 'data type.')"
      ],
      "execution_count": null,
      "outputs": [
        {
          "output_type": "stream",
          "text": [
            "Sample array & info:\n",
            "2 D Tensor, 3 samples, 3 features, int64 data type.\n"
          ],
          "name": "stdout"
        }
      ]
    },
    {
      "cell_type": "code",
      "metadata": {
        "id": "xOJ-GuNIneWj",
        "colab_type": "code",
        "colab": {}
      },
      "source": [
        "def view(x):\n",
        "    assert len(x.shape) == 2 # only for 2D tensor\n",
        "    for i in range(x.shape[0]):\n",
        "        for j in range(x.shape[1]):\n",
        "            if j < max(range(x.shape[1])):\n",
        "                print(x[i, j], end=' ')\n",
        "            else:\n",
        "                print(x[i, j])"
      ],
      "execution_count": null,
      "outputs": []
    },
    {
      "cell_type": "markdown",
      "metadata": {
        "id": "aQwvUaYaneWm",
        "colab_type": "text"
      },
      "source": [
        "# Element-wise operations\n",
        "- The relu operation and addition are element-wise operations: operations that are applied independently to each entry in the tensors being considered"
      ]
    },
    {
      "cell_type": "code",
      "metadata": {
        "id": "fbexvsY_neWn",
        "colab_type": "code",
        "colab": {},
        "outputId": "0e202b1c-bc07-427c-ef8f-4efb530bce6a"
      },
      "source": [
        "def add(x, y):\n",
        "    assert len(x.shape) == 2\n",
        "    assert x.shape == y.shape\n",
        "    t = x.copy()\n",
        "\n",
        "    for i in range(x.shape[0]):\n",
        "        for j in range(x.shape[1]):\n",
        "            t[i, j] += y[i, j]\n",
        "    return t\n",
        "view(a)\n",
        "print('----------------------')\n",
        "view(b)\n",
        "print('----------------------')\n",
        "view(add(a, b))"
      ],
      "execution_count": null,
      "outputs": [
        {
          "output_type": "stream",
          "text": [
            "-1 2 3\n",
            "-4 5 6\n",
            "-7 8 9\n",
            "----------------------\n",
            "1 2 3\n",
            "4 5 6\n",
            "7 8 9\n",
            "----------------------\n",
            "0 4 6\n",
            "0 10 12\n",
            "0 16 18\n"
          ],
          "name": "stdout"
        }
      ]
    },
    {
      "cell_type": "code",
      "metadata": {
        "id": "47_yEB-JneWq",
        "colab_type": "code",
        "colab": {},
        "outputId": "b5a429fe-489e-4949-8bd8-dcbce2b3dc8d"
      },
      "source": [
        "def relu(x):\n",
        "    assert len(x.shape) == 2\n",
        "    x = x.copy()\n",
        "    for i in range(x.shape[0]):\n",
        "        for j in range(x.shape[1]):\n",
        "            x[i, j] = max(x[i, j], 0)\n",
        "    return x\n",
        "view(a)\n",
        "print('----------------------')\n",
        "view(relu(a))"
      ],
      "execution_count": null,
      "outputs": [
        {
          "output_type": "stream",
          "text": [
            "-1 2 3\n",
            "-4 5 6\n",
            "-7 8 9\n",
            "----------------------\n",
            "0 2 3\n",
            "0 5 6\n",
            "0 8 9\n"
          ],
          "name": "stdout"
        }
      ]
    },
    {
      "cell_type": "markdown",
      "metadata": {
        "id": "B2-Npy3RneWt",
        "colab_type": "text"
      },
      "source": [
        "- Add and Relu built-in in Numpy"
      ]
    },
    {
      "cell_type": "code",
      "metadata": {
        "id": "6DU1Yca3neWt",
        "colab_type": "code",
        "colab": {},
        "outputId": "6d760070-dbc9-4c16-9748-4ff2d69c0e57"
      },
      "source": [
        "print(a + b)"
      ],
      "execution_count": null,
      "outputs": [
        {
          "output_type": "stream",
          "text": [
            "[[ 0  4  6]\n",
            " [ 0 10 12]\n",
            " [ 0 16 18]]\n"
          ],
          "name": "stdout"
        }
      ]
    },
    {
      "cell_type": "code",
      "metadata": {
        "id": "Lp3f8wroneWv",
        "colab_type": "code",
        "colab": {},
        "outputId": "e23be836-80ea-4ba2-97ec-c8cb2cc26587"
      },
      "source": [
        "print(np.maximum(a, 0.))"
      ],
      "execution_count": null,
      "outputs": [
        {
          "output_type": "stream",
          "text": [
            "[[0. 2. 3.]\n",
            " [0. 5. 6.]\n",
            " [0. 8. 9.]]\n"
          ],
          "name": "stdout"
        }
      ]
    },
    {
      "cell_type": "markdown",
      "metadata": {
        "id": "4tIAdI_xneWy",
        "colab_type": "text"
      },
      "source": [
        "# Sigmoid"
      ]
    },
    {
      "cell_type": "code",
      "metadata": {
        "id": "lJK5iv5-neWy",
        "colab_type": "code",
        "colab": {},
        "outputId": "59279eca-ca19-4d1d-d3ca-b31e64d8c013"
      },
      "source": [
        "def sigmoid(x, deriv=False):\n",
        "    if deriv:\n",
        "        return x*(1 -x)\n",
        "    return 1/(1+np.exp(-x))\n",
        "view(a)\n",
        "print('----------------------')\n",
        "view(sigmoid(a))\n",
        "print('----------------------')\n",
        "view(sigmoid(sigmoid(a), deriv=True))"
      ],
      "execution_count": null,
      "outputs": [
        {
          "output_type": "stream",
          "text": [
            "-1 2 3\n",
            "-4 5 6\n",
            "-7 8 9\n",
            "----------------------\n",
            "0.2689414213699951 0.8807970779778823 0.9525741268224334\n",
            "0.01798620996209156 0.9933071490757153 0.9975273768433653\n",
            "0.0009110511944006454 0.9996646498695336 0.9998766054240137\n",
            "----------------------\n",
            "0.19661193324148185 0.10499358540350662 0.045176659730912\n",
            "0.017662706213291118 0.006648056670790033 0.002466509291359931\n",
            "0.0009102211801218265 0.00033523767075636815 0.00012337934976493025\n"
          ],
          "name": "stdout"
        }
      ]
    },
    {
      "cell_type": "markdown",
      "metadata": {
        "id": "i1diAD1vneW0",
        "colab_type": "text"
      },
      "source": [
        "# Broadcasting\n",
        "- Addition when the shapes of the two tensors differ:\n",
        "  The smaller tensor will be broadcasted to match the shape of the larger   tensor. Broadcasting consists of two steps:\n",
        "- 1 Axes (called broadcast axes) are added to the smaller tensor to match   the ndim of the larger tensor.\n",
        "- 2 The smaller tensor is repeated alongside these new axes to match the     full shape of the larger tensor."
      ]
    },
    {
      "cell_type": "code",
      "metadata": {
        "id": "r4bqFL4cneW1",
        "colab_type": "code",
        "colab": {}
      },
      "source": [
        "def add_matrix_and_vector(x, y):\n",
        "    assert len(x.shape) == 2\n",
        "    assert len(y.shape) == 1\n",
        "    \n",
        "    x = x.copy()\n",
        "    for i in range(x.shape[0]):\n",
        "        for j in range(x.shape[1]):\n",
        "            x[i, j] += y[j]\n",
        "    return x        "
      ],
      "execution_count": null,
      "outputs": []
    },
    {
      "cell_type": "code",
      "metadata": {
        "id": "UUFQ4fpBneW4",
        "colab_type": "code",
        "colab": {},
        "outputId": "305ccf7b-7556-4211-f310-272b18000b7d"
      },
      "source": [
        "print(a)\n",
        "print('----------------------')\n",
        "print(c)\n",
        "print('----------------------')\n",
        "print(add_matrix_and_vector(a, c))\n",
        "print('----------------------')\n",
        "print(a + c)"
      ],
      "execution_count": null,
      "outputs": [
        {
          "output_type": "stream",
          "text": [
            "[[-1  2  3]\n",
            " [-4  5  6]\n",
            " [-7  8  9]]\n",
            "----------------------\n",
            "[1 2 3]\n",
            "----------------------\n",
            "[[ 0  4  6]\n",
            " [-3  7  9]\n",
            " [-6 10 12]]\n",
            "----------------------\n",
            "[[ 0  4  6]\n",
            " [-3  7  9]\n",
            " [-6 10 12]]\n"
          ],
          "name": "stdout"
        }
      ]
    },
    {
      "cell_type": "markdown",
      "metadata": {
        "id": "bv24HI-3neW6",
        "colab_type": "text"
      },
      "source": [
        " - Broadcasting is possible for two-tensor element-wise operations if one tensor has shape (a, b, … n, n + 1, … m) and the other has shape (n, n + 1, … m). The broadcasting will then automatically happen for axes a through n - 1."
      ]
    },
    {
      "cell_type": "code",
      "metadata": {
        "id": "xzXVFz6pneW6",
        "colab_type": "code",
        "colab": {},
        "outputId": "c141f914-1fff-4608-873c-6d4b3cfb74a3"
      },
      "source": [
        "x = np.random.random((64, 3, 32, 10))\n",
        "y = np.random.random((32, 10))\n",
        "z = np.maximum(x, y)\n",
        "print(x.shape)\n",
        "print(y.shape)\n",
        "print(z.shape)"
      ],
      "execution_count": null,
      "outputs": [
        {
          "output_type": "stream",
          "text": [
            "(64, 3, 32, 10)\n",
            "(32, 10)\n",
            "(64, 3, 32, 10)\n"
          ],
          "name": "stdout"
        }
      ]
    },
    {
      "cell_type": "code",
      "metadata": {
        "id": "R52vX2fJneW8",
        "colab_type": "code",
        "colab": {},
        "outputId": "cca8f70f-d2af-4d68-c7cf-7866052c1fa0"
      },
      "source": [
        "x = np.array([[1, 2, 3, 4, 5],\n",
        "              [1, 1, 1, 1, 1],\n",
        "              [1, 1, 1, 1, 1]])\n",
        "\n",
        "y = np.array([[[2, 2, 2, 2, 2],\n",
        "               [2, 2, 2, 2, 2],\n",
        "               [2, 2, 2, 2, 2]],\n",
        "              [[2, 2, 2, 2, 2],\n",
        "               [2, 2, 2, 2, 2],\n",
        "               [2, 2, 2, 2, 2]],\n",
        "              [[2, 2, 2, 2, 2],\n",
        "               [2, 2, 2, 2, 2],\n",
        "               [2, 2, 2, 2, 2]]])\n",
        "print(x.shape)\n",
        "print(y.shape)\n",
        "print(x)\n",
        "print('----------------------')\n",
        "print(y)\n",
        "print('----------------------')\n",
        "print(x + y)"
      ],
      "execution_count": null,
      "outputs": [
        {
          "output_type": "stream",
          "text": [
            "(3, 5)\n",
            "(3, 3, 5)\n",
            "[[1 2 3 4 5]\n",
            " [1 1 1 1 1]\n",
            " [1 1 1 1 1]]\n",
            "----------------------\n",
            "[[[2 2 2 2 2]\n",
            "  [2 2 2 2 2]\n",
            "  [2 2 2 2 2]]\n",
            "\n",
            " [[2 2 2 2 2]\n",
            "  [2 2 2 2 2]\n",
            "  [2 2 2 2 2]]\n",
            "\n",
            " [[2 2 2 2 2]\n",
            "  [2 2 2 2 2]\n",
            "  [2 2 2 2 2]]]\n",
            "----------------------\n",
            "[[[3 4 5 6 7]\n",
            "  [3 3 3 3 3]\n",
            "  [3 3 3 3 3]]\n",
            "\n",
            " [[3 4 5 6 7]\n",
            "  [3 3 3 3 3]\n",
            "  [3 3 3 3 3]]\n",
            "\n",
            " [[3 4 5 6 7]\n",
            "  [3 3 3 3 3]\n",
            "  [3 3 3 3 3]]]\n"
          ],
          "name": "stdout"
        }
      ]
    },
    {
      "cell_type": "code",
      "metadata": {
        "id": "O_r3uN3zneW-",
        "colab_type": "code",
        "colab": {},
        "outputId": "715587aa-b62d-493f-f5ba-abfcb7ff4509"
      },
      "source": [
        "x = np.array([1, 2, 3, 4, 5])\n",
        "\n",
        "y = np.array([[[2, 2, 2, 2, 2],\n",
        "               [2, 2, 2, 2, 2],\n",
        "               [2, 2, 2, 2, 2]],\n",
        "              [[2, 2, 2, 2, 2],\n",
        "               [2, 2, 2, 2, 2],\n",
        "               [2, 2, 2, 2, 2]],\n",
        "              [[2, 2, 2, 2, 2],\n",
        "               [2, 2, 2, 2, 2],\n",
        "               [2, 2, 2, 2, 2]]])\n",
        "print(x.shape)\n",
        "print(y.shape)\n",
        "print(x)\n",
        "print('----------------------')\n",
        "print(y)\n",
        "print('----------------------')\n",
        "print(x + y)"
      ],
      "execution_count": null,
      "outputs": [
        {
          "output_type": "stream",
          "text": [
            "(5,)\n",
            "(3, 3, 5)\n",
            "[1 2 3 4 5]\n",
            "----------------------\n",
            "[[[2 2 2 2 2]\n",
            "  [2 2 2 2 2]\n",
            "  [2 2 2 2 2]]\n",
            "\n",
            " [[2 2 2 2 2]\n",
            "  [2 2 2 2 2]\n",
            "  [2 2 2 2 2]]\n",
            "\n",
            " [[2 2 2 2 2]\n",
            "  [2 2 2 2 2]\n",
            "  [2 2 2 2 2]]]\n",
            "----------------------\n",
            "[[[3 4 5 6 7]\n",
            "  [3 4 5 6 7]\n",
            "  [3 4 5 6 7]]\n",
            "\n",
            " [[3 4 5 6 7]\n",
            "  [3 4 5 6 7]\n",
            "  [3 4 5 6 7]]\n",
            "\n",
            " [[3 4 5 6 7]\n",
            "  [3 4 5 6 7]\n",
            "  [3 4 5 6 7]]]\n"
          ],
          "name": "stdout"
        }
      ]
    },
    {
      "cell_type": "code",
      "metadata": {
        "id": "4SJxz_EEneXA",
        "colab_type": "code",
        "colab": {},
        "outputId": "663b8046-f00e-4be5-e7c9-253cd839a3a2"
      },
      "source": [
        "x = np.array([1])\n",
        "\n",
        "y = np.array([[[2, 2, 2, 2, 2],\n",
        "               [2, 2, 2, 2, 2],\n",
        "               [2, 2, 2, 2, 2]],\n",
        "              [[2, 2, 2, 2, 2],\n",
        "               [2, 2, 2, 2, 2],\n",
        "               [2, 2, 2, 2, 2]],\n",
        "              [[2, 2, 2, 2, 2],\n",
        "               [2, 2, 2, 2, 2],\n",
        "               [2, 2, 2, 2, 2]]])\n",
        "print(x.shape)\n",
        "print(y.shape)\n",
        "print(x)\n",
        "print('----------------------')\n",
        "print(y)\n",
        "print('----------------------')\n",
        "print(x + y)"
      ],
      "execution_count": null,
      "outputs": [
        {
          "output_type": "stream",
          "text": [
            "(1,)\n",
            "(3, 3, 5)\n",
            "[1]\n",
            "----------------------\n",
            "[[[2 2 2 2 2]\n",
            "  [2 2 2 2 2]\n",
            "  [2 2 2 2 2]]\n",
            "\n",
            " [[2 2 2 2 2]\n",
            "  [2 2 2 2 2]\n",
            "  [2 2 2 2 2]]\n",
            "\n",
            " [[2 2 2 2 2]\n",
            "  [2 2 2 2 2]\n",
            "  [2 2 2 2 2]]]\n",
            "----------------------\n",
            "[[[3 3 3 3 3]\n",
            "  [3 3 3 3 3]\n",
            "  [3 3 3 3 3]]\n",
            "\n",
            " [[3 3 3 3 3]\n",
            "  [3 3 3 3 3]\n",
            "  [3 3 3 3 3]]\n",
            "\n",
            " [[3 3 3 3 3]\n",
            "  [3 3 3 3 3]\n",
            "  [3 3 3 3 3]]]\n"
          ],
          "name": "stdout"
        }
      ]
    },
    {
      "cell_type": "markdown",
      "metadata": {
        "id": "lLwK3njcneXD",
        "colab_type": "text"
      },
      "source": [
        "# Tensor dot\n",
        "- Dot operation(tensor product) Contrary to element-wise operations, it combines entries in the input tensors.\n",
        "- Dot product between two vectors is a scalar and that only vectors with the same number of elements are compatible for a dot product."
      ]
    },
    {
      "cell_type": "code",
      "metadata": {
        "id": "9OowQqUOneXE",
        "colab_type": "code",
        "colab": {}
      },
      "source": [
        "def vector_dot(x, y):\n",
        "    assert len(x.shape) == 1\n",
        "    assert len(y.shape) == 1\n",
        "    assert x.shape[0] == y.shape[0]\n",
        "    z = 0\n",
        "    for i in range(x.shape[0]):\n",
        "        z += x[i] * y[i]\n",
        "    return z"
      ],
      "execution_count": null,
      "outputs": []
    },
    {
      "cell_type": "code",
      "metadata": {
        "id": "bk_lkdY9neXG",
        "colab_type": "code",
        "colab": {},
        "outputId": "b737455c-b7fa-4ec9-e81b-ac26fe09e73b"
      },
      "source": [
        "a = np.array([2, 2, 2])\n",
        "b = np.array([3, 3, 3])\n",
        "\n",
        "print(a)\n",
        "print('----------------------')\n",
        "print(b)\n",
        "print('----------------------')\n",
        "print(vector_dot(a, b))\n",
        "print('----------------------')\n",
        "print(np.dot(a, b))"
      ],
      "execution_count": null,
      "outputs": [
        {
          "output_type": "stream",
          "text": [
            "[2 2 2]\n",
            "----------------------\n",
            "[3 3 3]\n",
            "----------------------\n",
            "18\n",
            "----------------------\n",
            "18\n"
          ],
          "name": "stdout"
        }
      ]
    },
    {
      "cell_type": "markdown",
      "metadata": {
        "id": "uc8_UwL6neXI",
        "colab_type": "text"
      },
      "source": [
        "- Dot product between a matrix x and a vector y, which returns a vector where the coefficients are the dot products between y and the rows of x"
      ]
    },
    {
      "cell_type": "code",
      "metadata": {
        "id": "jKv8sX_-neXI",
        "colab_type": "code",
        "colab": {}
      },
      "source": [
        "def matrix_vector_dot_1(x, y):\n",
        "    assert len(x.shape) == 2\n",
        "    assert len(y.shape) == 1\n",
        "    assert x.shape[1] == y.shape[0]\n",
        "    \n",
        "    z = np.zeros(x.shape[0])\n",
        "    for i in range(x.shape[0]):\n",
        "        for j in range(x.shape[1]):\n",
        "            z[i] += x[i, j] * y[j]\n",
        "    return z    "
      ],
      "execution_count": null,
      "outputs": []
    },
    {
      "cell_type": "markdown",
      "metadata": {
        "id": "zyKCkQFXneXL",
        "colab_type": "text"
      },
      "source": [
        "- The relationship between a matrix-vector product and a vector product"
      ]
    },
    {
      "cell_type": "code",
      "metadata": {
        "id": "rrpBD6fNneXL",
        "colab_type": "code",
        "colab": {}
      },
      "source": [
        "def matrix_vector_dot_2(x, y):\n",
        "    z = np.zeros(x.shape[0])\n",
        "    for i in range(x.shape[0]):\n",
        "        z[i] = vector_dot(x[i, :], y)\n",
        "    return z"
      ],
      "execution_count": null,
      "outputs": []
    },
    {
      "cell_type": "code",
      "metadata": {
        "id": "ik4JNMneneXN",
        "colab_type": "code",
        "colab": {},
        "outputId": "8cd2f544-dc4d-4909-cda8-8f98c5c753b1"
      },
      "source": [
        "a = np.array([[2, 2, 2],[3, 3, 3]])\n",
        "b = np.array([4, 4, 4])\n",
        "print(matrix_vector_dot_1(a, b))\n",
        "print(matrix_vector_dot_2(a, b))\n",
        "print(np.dot(a, b))"
      ],
      "execution_count": null,
      "outputs": [
        {
          "output_type": "stream",
          "text": [
            "[24. 36.]\n",
            "[24. 36.]\n",
            "[24 36]\n"
          ],
          "name": "stdout"
        }
      ]
    },
    {
      "cell_type": "markdown",
      "metadata": {
        "id": "-2gGTT7JneXP",
        "colab_type": "text"
      },
      "source": [
        "- When one of the two tensors has an ndim greater than 1, dot is no longer symmetric, dot(x, y) isn’t the same as dot(y, x).\n",
        "- Dot product of two matrices x and y (dot(x, y)) if and only if x.shape[1] == y.shape[0].\n",
        "- The result is a matrix with shape (x.shape[0], y.shape[1]), where the coefficients are the vector products between the rows of x and the columns of y."
      ]
    },
    {
      "cell_type": "code",
      "metadata": {
        "id": "kJdCXPjRneXP",
        "colab_type": "code",
        "colab": {}
      },
      "source": [
        "def matrix_dot(x, y):\n",
        "    assert len(x.shape) == 2\n",
        "    assert len(y.shape) == 2\n",
        "    assert x.shape[1] == y.shape[0]\n",
        "    z = np.zeros((x.shape[1], y.shape[0]))\n",
        "    for i in range (x.shape[0]):\n",
        "        for j in range(y.shape[1]):\n",
        "            row_x = x[i, :]\n",
        "            column_y = y[:, j]\n",
        "            z[i, j] = vector_dot(row_x, column_y)\n",
        "    return z            "
      ],
      "execution_count": null,
      "outputs": []
    },
    {
      "cell_type": "code",
      "metadata": {
        "id": "vYqNcy-AneXR",
        "colab_type": "code",
        "colab": {},
        "outputId": "3dbd6d30-4b53-4496-a321-4d918a8dd6d6"
      },
      "source": [
        "a = np.array([[2, 2, 2],[3, 3, 3]])\n",
        "b = np.array([[4, 4, 4],[5, 5, 5],[6, 6, 6]])\n",
        "print(a.shape)\n",
        "print(b.shape)\n",
        "print(matrix_dot(a, b))\n",
        "print(np.dot(a, b))"
      ],
      "execution_count": null,
      "outputs": [
        {
          "output_type": "stream",
          "text": [
            "(2, 3)\n",
            "(3, 3)\n",
            "[[30. 30. 30.]\n",
            " [45. 45. 45.]\n",
            " [ 0.  0.  0.]]\n",
            "[[30 30 30]\n",
            " [45 45 45]]\n"
          ],
          "name": "stdout"
        }
      ]
    },
    {
      "cell_type": "markdown",
      "metadata": {
        "id": "qm_5JJuaneXT",
        "colab_type": "text"
      },
      "source": [
        "# Tensor reshaping\n",
        "- Reshaping a tensor means rearranging its rows and columns to match a target shape.\n",
        "- the reshaped tensor has the same total number of coefficients as the initial tensor.\n",
        "- Transposing a matrix means exchanging its rows and its columns, x[i, :] becomes x[:, i]:"
      ]
    },
    {
      "cell_type": "code",
      "metadata": {
        "id": "VtIehzCxneXT",
        "colab_type": "code",
        "colab": {},
        "outputId": "554b25fc-dba5-480c-fd0b-10a161d18eed"
      },
      "source": [
        "x = np.array([[0, 1],\n",
        "              [2, 3],\n",
        "              [4, 5]])\n",
        "print(x)\n",
        "print('----------------------')\n",
        "print(x.shape)\n",
        "print('----------------------')\n",
        "x = x.reshape(6, 1)\n",
        "print(x)\n",
        "print('----------------------')\n",
        "print(x.shape)\n",
        "print('----------------------')\n",
        "x = x.reshape(1, 6)\n",
        "print(x)\n",
        "print('----------------------')\n",
        "print(x.shape)"
      ],
      "execution_count": null,
      "outputs": [
        {
          "output_type": "stream",
          "text": [
            "[[0 1]\n",
            " [2 3]\n",
            " [4 5]]\n",
            "----------------------\n",
            "(3, 2)\n",
            "----------------------\n",
            "[[0]\n",
            " [1]\n",
            " [2]\n",
            " [3]\n",
            " [4]\n",
            " [5]]\n",
            "----------------------\n",
            "(6, 1)\n",
            "----------------------\n",
            "[[0 1 2 3 4 5]]\n",
            "----------------------\n",
            "(1, 6)\n"
          ],
          "name": "stdout"
        }
      ]
    }
  ]
}