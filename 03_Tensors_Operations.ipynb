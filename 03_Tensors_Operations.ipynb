{
  "nbformat": 4,
  "nbformat_minor": 0,
  "metadata": {
    "kernelspec": {
      "display_name": "Python 3",
      "language": "python",
      "name": "python3"
    },
    "language_info": {
      "codemirror_mode": {
        "name": "ipython",
        "version": 3
      },
      "file_extension": ".py",
      "mimetype": "text/x-python",
      "name": "python",
      "nbconvert_exporter": "python",
      "pygments_lexer": "ipython3",
      "version": "3.5.2"
    },
    "colab": {
      "name": "03.Tensors_Operations.ipynb",
      "provenance": [],
      "include_colab_link": true
    }
  },
  "cells": [
    {
      "cell_type": "markdown",
      "metadata": {
        "id": "view-in-github",
        "colab_type": "text"
      },
      "source": [
        "<a href=\"https://colab.research.google.com/github/charonux/Colab/blob/master/03_Tensors_Operations.ipynb\" target=\"_parent\"><img src=\"https://colab.research.google.com/assets/colab-badge.svg\" alt=\"Open In Colab\"/></a>"
      ]
    },
    {
      "cell_type": "code",
      "metadata": {
        "id": "wKtaJXG2neWc",
        "colab_type": "code",
        "colab": {}
      },
      "source": [
        "import numpy as np"
      ],
      "execution_count": null,
      "outputs": []
    },
    {
      "cell_type": "code",
      "metadata": {
        "id": "CU8EYW1HneWg",
        "colab_type": "code",
        "colab": {
          "base_uri": "https://localhost:8080/",
          "height": 51
        },
        "outputId": "ffebff7d-494f-45f9-f020-01117f198d93"
      },
      "source": [
        "a = np.array([[-1, 2, 3],\n",
        "              [-4, 5, 6],\n",
        "              [-7, 8, 9]])\n",
        "\n",
        "b = np.array([[1, 2, 3],\n",
        "              [4, 5, 6],\n",
        "              [7, 8, 9]])\n",
        "c = np.array([1, 2, 3])\n",
        "\n",
        "print(\"Sample array & info:\")\n",
        "print(len(a.shape), 'D Tensor,', a.shape[0], 'samples,', a.shape[1], 'features,', \\\n",
        "      a.dtype, 'data type.')"
      ],
      "execution_count": null,
      "outputs": [
        {
          "output_type": "stream",
          "text": [
            "Sample array & info:\n",
            "2 D Tensor, 3 samples, 3 features, int64 data type.\n"
          ],
          "name": "stdout"
        }
      ]
    },
    {
      "cell_type": "code",
      "metadata": {
        "id": "xOJ-GuNIneWj",
        "colab_type": "code",
        "colab": {}
      },
      "source": [
        "def view(x):\n",
        "    assert len(x.shape) == 2 # only for 2D tensor\n",
        "    for i in range(x.shape[0]):\n",
        "        for j in range(x.shape[1]):\n",
        "            if j < max(range(x.shape[1])):\n",
        "                print(x[i, j], end=' ')\n",
        "            else:\n",
        "                print(x[i, j])"
      ],
      "execution_count": null,
      "outputs": []
    },
    {
      "cell_type": "markdown",
      "metadata": {
        "id": "aQwvUaYaneWm",
        "colab_type": "text"
      },
      "source": [
        "# Element-wise operations\n",
        "- The relu operation and addition are element-wise operations: operations that are applied independently to each entry in the tensors being considered"
      ]
    },
    {
      "cell_type": "code",
      "metadata": {
        "id": "fbexvsY_neWn",
        "colab_type": "code",
        "colab": {
          "base_uri": "https://localhost:8080/",
          "height": 204
        },
        "outputId": "c8b5cbe9-4eb0-4bbd-9ef2-259583a08c8f"
      },
      "source": [
        "def add(x, y):\n",
        "    assert len(x.shape) == 2\n",
        "    assert x.shape == y.shape\n",
        "    t = x.copy()\n",
        "\n",
        "    for i in range(x.shape[0]):\n",
        "        for j in range(x.shape[1]):\n",
        "            t[i, j] += y[i, j]\n",
        "    return t\n",
        "view(a)\n",
        "print('----------------------')\n",
        "view(b)\n",
        "print('----------------------')\n",
        "view(add(a, b))"
      ],
      "execution_count": null,
      "outputs": [
        {
          "output_type": "stream",
          "text": [
            "-1 2 3\n",
            "-4 5 6\n",
            "-7 8 9\n",
            "----------------------\n",
            "1 2 3\n",
            "4 5 6\n",
            "7 8 9\n",
            "----------------------\n",
            "0 4 6\n",
            "0 10 12\n",
            "0 16 18\n"
          ],
          "name": "stdout"
        }
      ]
    },
    {
      "cell_type": "code",
      "metadata": {
        "id": "47_yEB-JneWq",
        "colab_type": "code",
        "colab": {
          "base_uri": "https://localhost:8080/",
          "height": 136
        },
        "outputId": "a9ea8f8d-c00e-47bf-a49f-247629308533"
      },
      "source": [
        "def relu(x):\n",
        "    assert len(x.shape) == 2\n",
        "    x = x.copy()\n",
        "    for i in range(x.shape[0]):\n",
        "        for j in range(x.shape[1]):\n",
        "            x[i, j] = max(x[i, j], 0)\n",
        "    return x\n",
        "view(a)\n",
        "print('----------------------')\n",
        "view(relu(a))"
      ],
      "execution_count": null,
      "outputs": [
        {
          "output_type": "stream",
          "text": [
            "-1 2 3\n",
            "-4 5 6\n",
            "-7 8 9\n",
            "----------------------\n",
            "0 2 3\n",
            "0 5 6\n",
            "0 8 9\n"
          ],
          "name": "stdout"
        }
      ]
    },
    {
      "cell_type": "markdown",
      "metadata": {
        "id": "B2-Npy3RneWt",
        "colab_type": "text"
      },
      "source": [
        "- Add and Relu are built-in in Numpy"
      ]
    },
    {
      "cell_type": "code",
      "metadata": {
        "id": "6DU1Yca3neWt",
        "colab_type": "code",
        "colab": {
          "base_uri": "https://localhost:8080/",
          "height": 68
        },
        "outputId": "5902846b-11e6-4225-abb3-896082eb8bee"
      },
      "source": [
        "print(a + b)"
      ],
      "execution_count": null,
      "outputs": [
        {
          "output_type": "stream",
          "text": [
            "[[ 0  4  6]\n",
            " [ 0 10 12]\n",
            " [ 0 16 18]]\n"
          ],
          "name": "stdout"
        }
      ]
    },
    {
      "cell_type": "code",
      "metadata": {
        "id": "Lp3f8wroneWv",
        "colab_type": "code",
        "colab": {
          "base_uri": "https://localhost:8080/",
          "height": 68
        },
        "outputId": "8b991d8c-6154-40ab-d002-91cddd8c12be"
      },
      "source": [
        "print(np.maximum(a, 0.))"
      ],
      "execution_count": null,
      "outputs": [
        {
          "output_type": "stream",
          "text": [
            "[[0. 2. 3.]\n",
            " [0. 5. 6.]\n",
            " [0. 8. 9.]]\n"
          ],
          "name": "stdout"
        }
      ]
    },
    {
      "cell_type": "markdown",
      "metadata": {
        "id": "4tIAdI_xneWy",
        "colab_type": "text"
      },
      "source": [
        "# Sigmoid"
      ]
    },
    {
      "cell_type": "code",
      "metadata": {
        "id": "lJK5iv5-neWy",
        "colab_type": "code",
        "colab": {
          "base_uri": "https://localhost:8080/",
          "height": 221
        },
        "outputId": "9c59d465-abbb-4de4-a5c3-426b76471284"
      },
      "source": [
        "def sigmoid(x, deriv=False):\n",
        "    if deriv:\n",
        "        return x*(1 -x)\n",
        "    return 1/(1+np.exp(-x))\n",
        "view(a)\n",
        "print('----------------------')\n",
        "print(np.round((sigmoid(a)),3))\n",
        "print('----------------------')\n",
        "print(np.round((sigmoid(sigmoid(a), deriv=True)), 3))\n",
        "print(np.round(x,3))"
      ],
      "execution_count": null,
      "outputs": [
        {
          "output_type": "stream",
          "text": [
            "-1 2 3\n",
            "-4 5 6\n",
            "-7 8 9\n",
            "----------------------\n",
            "[[0.269 0.881 0.953]\n",
            " [0.018 0.993 0.998]\n",
            " [0.001 1.    1.   ]]\n",
            "----------------------\n",
            "[[0.197 0.105 0.045]\n",
            " [0.018 0.007 0.002]\n",
            " [0.001 0.    0.   ]]\n",
            "[[0 1 2 3 4 5]]\n"
          ],
          "name": "stdout"
        }
      ]
    },
    {
      "cell_type": "markdown",
      "metadata": {
        "id": "i1diAD1vneW0",
        "colab_type": "text"
      },
      "source": [
        "# Broadcasting\n",
        "- Addition when the shapes of the two tensors differ:\n",
        "  The smaller tensor will be broadcasted to match the shape of the larger   tensor. Broadcasting consists of two steps:\n",
        "- 1 Axes (called broadcast axes) are added to the smaller tensor to match   the ndim of the larger tensor.\n",
        "- 2 The smaller tensor is repeated alongside these new axes to match the     full shape of the larger tensor."
      ]
    },
    {
      "cell_type": "code",
      "metadata": {
        "id": "r4bqFL4cneW1",
        "colab_type": "code",
        "colab": {}
      },
      "source": [
        "def add_matrix_and_vector(x, y):\n",
        "    assert len(x.shape) == 2\n",
        "    assert len(y.shape) == 1\n",
        "    \n",
        "    x = x.copy()\n",
        "    for i in range(x.shape[0]):\n",
        "        for j in range(x.shape[1]):\n",
        "            x[i, j] += y[j]\n",
        "    return x        "
      ],
      "execution_count": null,
      "outputs": []
    },
    {
      "cell_type": "code",
      "metadata": {
        "id": "UUFQ4fpBneW4",
        "colab_type": "code",
        "colab": {
          "base_uri": "https://localhost:8080/",
          "height": 238
        },
        "outputId": "5b6d410f-389b-436b-cdfa-6522daa47b24"
      },
      "source": [
        "print(a)\n",
        "print('----------------------')\n",
        "print(c)\n",
        "print('----------------------')\n",
        "print(add_matrix_and_vector(a, c))\n",
        "print('----------------------')\n",
        "print(a + c)"
      ],
      "execution_count": null,
      "outputs": [
        {
          "output_type": "stream",
          "text": [
            "[[-1  2  3]\n",
            " [-4  5  6]\n",
            " [-7  8  9]]\n",
            "----------------------\n",
            "[1 2 3]\n",
            "----------------------\n",
            "[[ 0  4  6]\n",
            " [-3  7  9]\n",
            " [-6 10 12]]\n",
            "----------------------\n",
            "[[ 0  4  6]\n",
            " [-3  7  9]\n",
            " [-6 10 12]]\n"
          ],
          "name": "stdout"
        }
      ]
    },
    {
      "cell_type": "markdown",
      "metadata": {
        "id": "bv24HI-3neW6",
        "colab_type": "text"
      },
      "source": [
        " - Broadcasting is possible for two-tensor element-wise operations if one tensor has shape (a, b, … n, n + 1, … m) and the other has shape (n, n + 1, … m). The broadcasting will then automatically happen for axes a through n - 1."
      ]
    },
    {
      "cell_type": "code",
      "metadata": {
        "id": "xzXVFz6pneW6",
        "colab_type": "code",
        "colab": {
          "base_uri": "https://localhost:8080/",
          "height": 68
        },
        "outputId": "a93d2617-7e73-4d47-c39e-7c6f87bed2a3"
      },
      "source": [
        "x = np.random.random((64, 3, 32, 10))\n",
        "y = np.random.random((32, 10))\n",
        "z = np.maximum(x, y)\n",
        "print(x.shape)\n",
        "print(y.shape)\n",
        "print(z.shape)"
      ],
      "execution_count": null,
      "outputs": [
        {
          "output_type": "stream",
          "text": [
            "(64, 3, 32, 10)\n",
            "(32, 10)\n",
            "(64, 3, 32, 10)\n"
          ],
          "name": "stdout"
        }
      ]
    },
    {
      "cell_type": "code",
      "metadata": {
        "id": "R52vX2fJneW8",
        "colab_type": "code",
        "colab": {
          "base_uri": "https://localhost:8080/",
          "height": 510
        },
        "outputId": "f4f9518d-b799-46c0-afae-834f09f27211"
      },
      "source": [
        "x = np.array([[1, 2, 3, 4, 5],\n",
        "              [1, 1, 1, 1, 1],\n",
        "              [1, 1, 1, 1, 1]])\n",
        "\n",
        "y = np.array([[[2, 2, 2, 2, 2],\n",
        "               [2, 2, 2, 2, 2],\n",
        "               [2, 2, 2, 2, 2]],\n",
        "              [[2, 2, 2, 2, 2],\n",
        "               [2, 2, 2, 2, 2],\n",
        "               [2, 2, 2, 2, 2]],\n",
        "              [[2, 2, 2, 2, 2],\n",
        "               [2, 2, 2, 2, 2],\n",
        "               [2, 2, 2, 2, 2]]])\n",
        "print(x.shape)\n",
        "print(y.shape)\n",
        "print(x)\n",
        "print('----------------------')\n",
        "print(y)\n",
        "print('----------------------')\n",
        "print(x + y)"
      ],
      "execution_count": null,
      "outputs": [
        {
          "output_type": "stream",
          "text": [
            "(3, 5)\n",
            "(3, 3, 5)\n",
            "[[1 2 3 4 5]\n",
            " [1 1 1 1 1]\n",
            " [1 1 1 1 1]]\n",
            "----------------------\n",
            "[[[2 2 2 2 2]\n",
            "  [2 2 2 2 2]\n",
            "  [2 2 2 2 2]]\n",
            "\n",
            " [[2 2 2 2 2]\n",
            "  [2 2 2 2 2]\n",
            "  [2 2 2 2 2]]\n",
            "\n",
            " [[2 2 2 2 2]\n",
            "  [2 2 2 2 2]\n",
            "  [2 2 2 2 2]]]\n",
            "----------------------\n",
            "[[[3 4 5 6 7]\n",
            "  [3 3 3 3 3]\n",
            "  [3 3 3 3 3]]\n",
            "\n",
            " [[3 4 5 6 7]\n",
            "  [3 3 3 3 3]\n",
            "  [3 3 3 3 3]]\n",
            "\n",
            " [[3 4 5 6 7]\n",
            "  [3 3 3 3 3]\n",
            "  [3 3 3 3 3]]]\n"
          ],
          "name": "stdout"
        }
      ]
    },
    {
      "cell_type": "code",
      "metadata": {
        "id": "O_r3uN3zneW-",
        "colab_type": "code",
        "colab": {
          "base_uri": "https://localhost:8080/",
          "height": 476
        },
        "outputId": "af76a485-b57c-4ab3-9363-36126b851596"
      },
      "source": [
        "x = np.array([1, 2, 3, 4, 5])\n",
        "\n",
        "y = np.array([[[2, 2, 2, 2, 2],\n",
        "               [2, 2, 2, 2, 2],\n",
        "               [2, 2, 2, 2, 2]],\n",
        "              [[2, 2, 2, 2, 2],\n",
        "               [2, 2, 2, 2, 2],\n",
        "               [2, 2, 2, 2, 2]],\n",
        "              [[2, 2, 2, 2, 2],\n",
        "               [2, 2, 2, 2, 2],\n",
        "               [2, 2, 2, 2, 2]]])\n",
        "print(x.shape)\n",
        "print(y.shape)\n",
        "print(x)\n",
        "print('----------------------')\n",
        "print(y)\n",
        "print('----------------------')\n",
        "print(x + y)"
      ],
      "execution_count": null,
      "outputs": [
        {
          "output_type": "stream",
          "text": [
            "(5,)\n",
            "(3, 3, 5)\n",
            "[1 2 3 4 5]\n",
            "----------------------\n",
            "[[[2 2 2 2 2]\n",
            "  [2 2 2 2 2]\n",
            "  [2 2 2 2 2]]\n",
            "\n",
            " [[2 2 2 2 2]\n",
            "  [2 2 2 2 2]\n",
            "  [2 2 2 2 2]]\n",
            "\n",
            " [[2 2 2 2 2]\n",
            "  [2 2 2 2 2]\n",
            "  [2 2 2 2 2]]]\n",
            "----------------------\n",
            "[[[3 4 5 6 7]\n",
            "  [3 4 5 6 7]\n",
            "  [3 4 5 6 7]]\n",
            "\n",
            " [[3 4 5 6 7]\n",
            "  [3 4 5 6 7]\n",
            "  [3 4 5 6 7]]\n",
            "\n",
            " [[3 4 5 6 7]\n",
            "  [3 4 5 6 7]\n",
            "  [3 4 5 6 7]]]\n"
          ],
          "name": "stdout"
        }
      ]
    },
    {
      "cell_type": "code",
      "metadata": {
        "id": "4SJxz_EEneXA",
        "colab_type": "code",
        "colab": {
          "base_uri": "https://localhost:8080/",
          "height": 476
        },
        "outputId": "305faf08-9ec2-4d38-b9af-a11fd4eb5a01"
      },
      "source": [
        "x = np.array([1])\n",
        "\n",
        "y = np.array([[[2, 2, 2, 2, 2],\n",
        "               [2, 2, 2, 2, 2],\n",
        "               [2, 2, 2, 2, 2]],\n",
        "              [[2, 2, 2, 2, 2],\n",
        "               [2, 2, 2, 2, 2],\n",
        "               [2, 2, 2, 2, 2]],\n",
        "              [[2, 2, 2, 2, 2],\n",
        "               [2, 2, 2, 2, 2],\n",
        "               [2, 2, 2, 2, 2]]])\n",
        "print(x.shape)\n",
        "print(y.shape)\n",
        "print(x)\n",
        "print('----------------------')\n",
        "print(y)\n",
        "print('----------------------')\n",
        "print(x + y)"
      ],
      "execution_count": null,
      "outputs": [
        {
          "output_type": "stream",
          "text": [
            "(1,)\n",
            "(3, 3, 5)\n",
            "[1]\n",
            "----------------------\n",
            "[[[2 2 2 2 2]\n",
            "  [2 2 2 2 2]\n",
            "  [2 2 2 2 2]]\n",
            "\n",
            " [[2 2 2 2 2]\n",
            "  [2 2 2 2 2]\n",
            "  [2 2 2 2 2]]\n",
            "\n",
            " [[2 2 2 2 2]\n",
            "  [2 2 2 2 2]\n",
            "  [2 2 2 2 2]]]\n",
            "----------------------\n",
            "[[[3 3 3 3 3]\n",
            "  [3 3 3 3 3]\n",
            "  [3 3 3 3 3]]\n",
            "\n",
            " [[3 3 3 3 3]\n",
            "  [3 3 3 3 3]\n",
            "  [3 3 3 3 3]]\n",
            "\n",
            " [[3 3 3 3 3]\n",
            "  [3 3 3 3 3]\n",
            "  [3 3 3 3 3]]]\n"
          ],
          "name": "stdout"
        }
      ]
    },
    {
      "cell_type": "markdown",
      "metadata": {
        "id": "lLwK3njcneXD",
        "colab_type": "text"
      },
      "source": [
        "# Tensor dot\n",
        "- Dot operation(tensor product) Contrary to element-wise operations, it combines entries in the input tensors.\n",
        "- Dot product between two vectors is a scalar and that only vectors with the same number of elements are compatible for a dot product."
      ]
    },
    {
      "cell_type": "code",
      "metadata": {
        "id": "9OowQqUOneXE",
        "colab_type": "code",
        "colab": {}
      },
      "source": [
        "def vector_dot(x, y):\n",
        "    assert len(x.shape) == 1\n",
        "    assert len(y.shape) == 1\n",
        "    assert x.shape[0] == y.shape[0]\n",
        "    z = 0\n",
        "    for i in range(x.shape[0]):\n",
        "        z += x[i] * y[i]\n",
        "    return z"
      ],
      "execution_count": null,
      "outputs": []
    },
    {
      "cell_type": "code",
      "metadata": {
        "id": "bk_lkdY9neXG",
        "colab_type": "code",
        "colab": {
          "base_uri": "https://localhost:8080/",
          "height": 136
        },
        "outputId": "eeb3fbde-5e98-4650-89ec-4116f0c01cd7"
      },
      "source": [
        "a = np.array([2, 2, 2])\n",
        "b = np.array([3, 3, 3])\n",
        "\n",
        "print(a)\n",
        "print('----------------------')\n",
        "print(b)\n",
        "print('----------------------')\n",
        "print(vector_dot(a, b))\n",
        "print('----------------------')\n",
        "print(np.dot(a, b))"
      ],
      "execution_count": null,
      "outputs": [
        {
          "output_type": "stream",
          "text": [
            "[2 2 2]\n",
            "----------------------\n",
            "[3 3 3]\n",
            "----------------------\n",
            "18\n",
            "----------------------\n",
            "18\n"
          ],
          "name": "stdout"
        }
      ]
    },
    {
      "cell_type": "markdown",
      "metadata": {
        "id": "uc8_UwL6neXI",
        "colab_type": "text"
      },
      "source": [
        "- Dot product between a matrix x and a vector y, which returns a vector where the coefficients are the dot products between y and the rows of x"
      ]
    },
    {
      "cell_type": "code",
      "metadata": {
        "id": "jKv8sX_-neXI",
        "colab_type": "code",
        "colab": {}
      },
      "source": [
        "def matrix_vector_dot_1(x, y):\n",
        "    assert len(x.shape) == 2\n",
        "    assert len(y.shape) == 1\n",
        "    assert x.shape[1] == y.shape[0]\n",
        "    \n",
        "    z = np.zeros(x.shape[0])\n",
        "    for i in range(x.shape[0]):\n",
        "        for j in range(x.shape[1]):\n",
        "            z[i] += x[i, j] * y[j]\n",
        "    return z    "
      ],
      "execution_count": null,
      "outputs": []
    },
    {
      "cell_type": "markdown",
      "metadata": {
        "id": "zyKCkQFXneXL",
        "colab_type": "text"
      },
      "source": [
        "- The relationship between a matrix-vector product and a vector product"
      ]
    },
    {
      "cell_type": "code",
      "metadata": {
        "id": "rrpBD6fNneXL",
        "colab_type": "code",
        "colab": {}
      },
      "source": [
        "def matrix_vector_dot_2(x, y):\n",
        "    z = np.zeros(x.shape[0])\n",
        "    for i in range(x.shape[0]):\n",
        "        z[i] = vector_dot(x[i, :], y)\n",
        "    return z"
      ],
      "execution_count": null,
      "outputs": []
    },
    {
      "cell_type": "code",
      "metadata": {
        "id": "ik4JNMneneXN",
        "colab_type": "code",
        "colab": {
          "base_uri": "https://localhost:8080/",
          "height": 68
        },
        "outputId": "08e888c3-673c-427c-d44f-36400f280bbf"
      },
      "source": [
        "a = np.array([[2, 2, 2],[3, 3, 3]])\n",
        "b = np.array([4, 4, 4])\n",
        "print(matrix_vector_dot_1(a, b))\n",
        "print(matrix_vector_dot_2(a, b))\n",
        "print(np.dot(a, b))"
      ],
      "execution_count": null,
      "outputs": [
        {
          "output_type": "stream",
          "text": [
            "[24. 36.]\n",
            "[24. 36.]\n",
            "[24 36]\n"
          ],
          "name": "stdout"
        }
      ]
    },
    {
      "cell_type": "markdown",
      "metadata": {
        "id": "-2gGTT7JneXP",
        "colab_type": "text"
      },
      "source": [
        "- When one of the two tensors has an ndim greater than 1, dot is no longer symmetric, dot(x, y) isn’t the same as dot(y, x).\n",
        "- Dot product of two matrices x and y (dot(x, y)) if and only if x.shape[1] == y.shape[0].\n",
        "- The result is a matrix with shape (x.shape[0], y.shape[1]), where the coefficients are the vector products between the rows of x and the columns of y."
      ]
    },
    {
      "cell_type": "code",
      "metadata": {
        "id": "kJdCXPjRneXP",
        "colab_type": "code",
        "colab": {}
      },
      "source": [
        "def matrix_dot(x, y):\n",
        "    assert len(x.shape) == 2\n",
        "    assert len(y.shape) == 2\n",
        "    assert x.shape[1] == y.shape[0]\n",
        "    z = np.zeros((x.shape[1], y.shape[0]))\n",
        "    for i in range (x.shape[0]):\n",
        "        for j in range(y.shape[1]):\n",
        "            row_x = x[i, :]\n",
        "            column_y = y[:, j]\n",
        "            z[i, j] = vector_dot(row_x, column_y)\n",
        "    return z            "
      ],
      "execution_count": null,
      "outputs": []
    },
    {
      "cell_type": "code",
      "metadata": {
        "id": "vYqNcy-AneXR",
        "colab_type": "code",
        "colab": {
          "base_uri": "https://localhost:8080/",
          "height": 136
        },
        "outputId": "e5b8d7bb-c3a4-402f-b31e-1320e83e2d4c"
      },
      "source": [
        "a = np.array([[2, 2, 2],[3, 3, 3]])\n",
        "b = np.array([[4, 4, 4],[5, 5, 5],[6, 6, 6]])\n",
        "print(a.shape)\n",
        "print(b.shape)\n",
        "print(matrix_dot(a, b))\n",
        "print(np.dot(a, b))"
      ],
      "execution_count": null,
      "outputs": [
        {
          "output_type": "stream",
          "text": [
            "(2, 3)\n",
            "(3, 3)\n",
            "[[30. 30. 30.]\n",
            " [45. 45. 45.]\n",
            " [ 0.  0.  0.]]\n",
            "[[30 30 30]\n",
            " [45 45 45]]\n"
          ],
          "name": "stdout"
        }
      ]
    },
    {
      "cell_type": "markdown",
      "metadata": {
        "id": "qm_5JJuaneXT",
        "colab_type": "text"
      },
      "source": [
        "# Tensor reshaping\n",
        "- Reshaping a tensor means rearranging its rows and columns to match a target shape.\n",
        "- the reshaped tensor has the same total number of coefficients as the initial tensor.\n",
        "- Transposing a matrix means exchanging its rows and its columns, x[i, :] becomes x[:, i]:"
      ]
    },
    {
      "cell_type": "code",
      "metadata": {
        "id": "VtIehzCxneXT",
        "colab_type": "code",
        "colab": {
          "base_uri": "https://localhost:8080/",
          "height": 323
        },
        "outputId": "398934fe-1e98-495c-988e-0cc6a158fac0"
      },
      "source": [
        "x = np.array([[0, 1],\n",
        "              [2, 3],\n",
        "              [4, 5]])\n",
        "print(x)\n",
        "print('----------------------')\n",
        "print(x.shape)\n",
        "print('----------------------')\n",
        "x = x.reshape(6, 1)\n",
        "print(x)\n",
        "print('----------------------')\n",
        "print(x.shape)\n",
        "print('----------------------')\n",
        "x = x.reshape(1, 6)\n",
        "print(x)\n",
        "print('----------------------')\n",
        "print(x.shape)"
      ],
      "execution_count": null,
      "outputs": [
        {
          "output_type": "stream",
          "text": [
            "[[0 1]\n",
            " [2 3]\n",
            " [4 5]]\n",
            "----------------------\n",
            "(3, 2)\n",
            "----------------------\n",
            "[[0]\n",
            " [1]\n",
            " [2]\n",
            " [3]\n",
            " [4]\n",
            " [5]]\n",
            "----------------------\n",
            "(6, 1)\n",
            "----------------------\n",
            "[[0 1 2 3 4 5]]\n",
            "----------------------\n",
            "(1, 6)\n"
          ],
          "name": "stdout"
        }
      ]
    }
  ]
}