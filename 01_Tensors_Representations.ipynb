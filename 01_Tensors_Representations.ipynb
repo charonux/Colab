{
  "nbformat": 4,
  "nbformat_minor": 0,
  "metadata": {
    "kernelspec": {
      "display_name": "Python 3",
      "language": "python",
      "name": "python3"
    },
    "language_info": {
      "codemirror_mode": {
        "name": "ipython",
        "version": 3
      },
      "file_extension": ".py",
      "mimetype": "text/x-python",
      "name": "python",
      "nbconvert_exporter": "python",
      "pygments_lexer": "ipython3",
      "version": "3.5.2"
    },
    "colab": {
      "name": "01.Tensors_Representations.ipynb",
      "provenance": []
    }
  },
  "cells": [
    {
      "cell_type": "code",
      "metadata": {
        "id": "JP4sWQBtO2_B",
        "colab_type": "code",
        "colab": {}
      },
      "source": [
        "import numpy as np\n",
        "from tensorflow.keras.datasets import mnist\n",
        "import matplotlib.pyplot as plt"
      ],
      "execution_count": null,
      "outputs": []
    },
    {
      "cell_type": "markdown",
      "metadata": {
        "id": "fvBWYbGDO2_E",
        "colab_type": "text"
      },
      "source": [
        "- Tensor is a container for numbers.\n",
        "- The number of axes of a tensor is also called its rank.\n",
        "- A tensor that contains only one number is called a scalar.\n",
        "- Shape is a tuple of integers that describes how many dimensions the tensor has along each axis.\n",
        "- Data type(dtype) is the type of the data contained in the tensor."
      ]
    },
    {
      "cell_type": "markdown",
      "metadata": {
        "id": "RRmk9WUYSi2g",
        "colab_type": "text"
      },
      "source": [
        "Real-world examples of data tensors\n",
        "\n",
        "- Vector data — rank-2 tensors of shape (samples, features)\n",
        "- Timeseries data or sequence data — rank-3 tensors of shape (samples, timesteps, features)\n",
        "- Images — rank-4 tensors of shape  or (samples, height, width, channels) (samples, channels, height, width) \n",
        "- Video — rank-5 tensors of shape  or (samples, frames, height, width, channels) (samples, frames, channels, height, width)"
      ]
    },
    {
      "cell_type": "code",
      "metadata": {
        "id": "FUOV2eBoO2_F",
        "colab_type": "code",
        "colab": {
          "base_uri": "https://localhost:8080/",
          "height": 34
        },
        "outputId": "a7132040-14a9-4563-d339-14006334f833"
      },
      "source": [
        "# Scalar (0D tensors)\n",
        "x = np.array(12.0)\n",
        "print('0 D Tensor,', x.dtype, 'data type.')"
      ],
      "execution_count": null,
      "outputs": [
        {
          "output_type": "stream",
          "text": [
            "0 D Tensor, float64 data type.\n"
          ],
          "name": "stdout"
        }
      ]
    },
    {
      "cell_type": "markdown",
      "metadata": {
        "id": "Kwb8QUk2O2_H",
        "colab_type": "text"
      },
      "source": [
        "- An array of numbers is called a vector, or 1D tensor."
      ]
    },
    {
      "cell_type": "code",
      "metadata": {
        "id": "CGRRtk0CO2_I",
        "colab_type": "code",
        "colab": {
          "base_uri": "https://localhost:8080/",
          "height": 34
        },
        "outputId": "a56ca2c5-eadd-4272-bc14-f4a4b011861d"
      },
      "source": [
        "# Vector (1D tensors)\n",
        "x = np.array([12, 3, 6, 14, 11])\n",
        "print(x.ndim, 'D Tensor,', x.shape[0], 'samples,', x.dtype, 'data type.')"
      ],
      "execution_count": null,
      "outputs": [
        {
          "output_type": "stream",
          "text": [
            "1 D Tensor, 5 samples, int64 data type.\n"
          ],
          "name": "stdout"
        }
      ]
    },
    {
      "cell_type": "markdown",
      "metadata": {
        "id": "nAi0bdZWO2_K",
        "colab_type": "text"
      },
      "source": [
        "- An array of vectors is a matrix, or 2D tensor."
      ]
    },
    {
      "cell_type": "code",
      "metadata": {
        "id": "H3kKJB51O2_L",
        "colab_type": "code",
        "colab": {
          "base_uri": "https://localhost:8080/",
          "height": 34
        },
        "outputId": "2900aed7-7a20-4ee8-c45e-a57114c5cd0e"
      },
      "source": [
        "# Matrices (2D Tensors)\n",
        "x = np.array([[5, 7, 2, 34, 0],\n",
        "              [6, 79, 3, 35, 1],\n",
        "              [7, 80, 4, 36, 2]])\n",
        "print(x.ndim, 'D Tensor,', x.shape[0], 'samples,', x.shape[1], 'features,', x.dtype, 'data type.')"
      ],
      "execution_count": null,
      "outputs": [
        {
          "output_type": "stream",
          "text": [
            "2 D Tensor, 3 samples, 5 features, int64 data type.\n"
          ],
          "name": "stdout"
        }
      ]
    },
    {
      "cell_type": "markdown",
      "metadata": {
        "id": "Nm9Rr8BEO2_N",
        "colab_type": "text"
      },
      "source": [
        "- Pack matrices in a new array is a 3D tensor"
      ]
    },
    {
      "cell_type": "code",
      "metadata": {
        "scrolled": true,
        "id": "_WnhXsnXO2_O",
        "colab_type": "code",
        "colab": {
          "base_uri": "https://localhost:8080/",
          "height": 34
        },
        "outputId": "2b0e8c5d-144d-4120-8974-d65f9e440ab6"
      },
      "source": [
        "# 3D tensors\n",
        "x = np.array([[[5, 78, 2, 34, 0],\n",
        "               [6, 79, 3, 35, 1],\n",
        "               [7, 80, 4, 36, 2]],\n",
        "              [[5, 78, 2, 34, 0],\n",
        "               [6, 79, 3, 35, 1],\n",
        "               [7, 80, 4, 36, 2]],\n",
        "              [[5, 78, 2, 34, 0],\n",
        "               [6, 79, 3, 35, 1],\n",
        "               [7, 80, 4, 36, 2]]])\n",
        "print(x.ndim, 'D Tensor,', x.shape[0], 'samples,', x.shape[1], 'timesteps,', x.shape[2], 'features,', x.dtype, 'data type.')"
      ],
      "execution_count": null,
      "outputs": [
        {
          "output_type": "stream",
          "text": [
            "3 D Tensor, 3 samples, 3 timesteps, 5 features, int64 data type.\n"
          ],
          "name": "stdout"
        }
      ]
    },
    {
      "cell_type": "code",
      "metadata": {
        "id": "QUw6GPkiO2_Q",
        "colab_type": "code",
        "colab": {
          "base_uri": "https://localhost:8080/",
          "height": 282
        },
        "outputId": "b015a242-520b-4ca9-fb02-7d0668ef2efc"
      },
      "source": [
        "# MNIST dataset\n",
        "(train_images, train_labels), (test_images, test_labels) = mnist.load_data()\n",
        "x = train_images\n",
        "print(x.ndim, 'D Tensor,', x.shape[0], 'samples,', x.shape[1], 'x_digit,', x.shape[2], 'y_digit,', x.dtype, 'data type.')\n",
        "# Display a digit\n",
        "digit = train_images[4]\n",
        "plt.imshow(digit)\n",
        "plt.show()"
      ],
      "execution_count": null,
      "outputs": [
        {
          "output_type": "stream",
          "text": [
            "3 D Tensor, 60000 samples, 28 x_digit, 28 y_digit, uint8 data type.\n"
          ],
          "name": "stdout"
        },
        {
          "output_type": "display_data",
          "data": {
            "image/png": "[encoded data removed]",
            "text/plain": [
              "<Figure size 432x288 with 1 Axes>"
            ]
          },
          "metadata": {
            "tags": [],
            "needs_background": "light"
          }
        }
      ]
    },
    {
      "cell_type": "code",
      "metadata": {
        "id": "66liG19bO2_T",
        "colab_type": "code",
        "colab": {
          "base_uri": "https://localhost:8080/",
          "height": 282
        },
        "outputId": "351d07fc-11f8-4dae-d39d-35b93d865f01"
      },
      "source": [
        "plt.imshow(digit, cmap=plt.cm.binary)"
      ],
      "execution_count": null,
      "outputs": [
        {
          "output_type": "execute_result",
          "data": {
            "text/plain": [
              "<matplotlib.image.AxesImage at 0x7f438a2c8da0>"
            ]
          },
          "metadata": {
            "tags": []
          },
          "execution_count": 14
        },
        {
          "output_type": "display_data",
          "data": {
            "image/png": "[encoded data removed]",
            "text/plain": [
              "<Figure size 432x288 with 1 Axes>"
            ]
          },
          "metadata": {
            "tags": [],
            "needs_background": "light"
          }
        }
      ]
    },
    {
      "cell_type": "code",
      "metadata": {
        "id": "QYRwIZsTO2_V",
        "colab_type": "code",
        "colab": {}
      },
      "source": [
        ""
      ],
      "execution_count": null,
      "outputs": []
    }
  ]
}